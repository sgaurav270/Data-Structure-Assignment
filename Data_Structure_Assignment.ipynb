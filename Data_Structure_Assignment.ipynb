{
  "nbformat": 4,
  "nbformat_minor": 0,
  "metadata": {
    "colab": {
      "provenance": []
    },
    "kernelspec": {
      "name": "python3",
      "display_name": "Python 3"
    },
    "language_info": {
      "name": "python"
    }
  },
  "cells": [
    {
      "cell_type": "markdown",
      "source": [
        "##Data Structure Assignment\n"
      ],
      "metadata": {
        "id": "jA_EPgbUQjv9"
      }
    },
    {
      "cell_type": "markdown",
      "source": [
        "1. What are data structures, and why are they important ?\n",
        "  -   Data structures are organized ways of storing, managing, and organizing data to enable efficient access and modification. They are a fundamental concept in computer science and programming, forming the backbone of most software applications.Data Structures are important because of there Efficient Data Handling, Improved Algorithm Performance, Solving Complex Problems, Memory Management, Foundation for Software Development. for example, Social Networks, Search Engines,Navigation Systems, E-Commerce Platforms etc.\n",
        "\n",
        "2. Explain the difference between mutable and immutable data types with examples ?\n",
        "\n",
        "  - The terms mutable and immutable describe whether or not a data type allows modifications to its content after it has been created.Mutable data types can be changed or modified after creation. This means you can update, add, or remove elements in place without creating a new object.Immutable data types cannot be changed after creation. Any operation that appears to modify an immutable object actually creates a new object.\n",
        "\n",
        "3. What are the main differences between lists and tuples in Python ?\n",
        "\n",
        "  - Lists and tuples are both used to store collections of data in Python. However, they have significant differences that impact their behavior and use cases. Lists are Mutable, You can modify elements, add, or remove them.Tuples are Immutable, Elements cannot be changed once the tuple is created. list are defined with square brackets []. Tuples are defined with parentheses ().Lists is slightly slower due to mutability. Tuples is Faster because they are immutable and require less memory.\n",
        "\n",
        "4. Describe how dictionaries store data ?\n",
        "\n",
        "    - Dictionaries in Python store data using a hash table structure, which allows for fast and efficient retrieval of values based on keys. This design ensures average-case O(1) time complexity for common operations like lookup, insertion, and deletion.\n",
        "\n",
        "5. Why might you use a set instead of a list in Python ?\n",
        "\n",
        "  - A set in Python is an unordered collection of unique elements. While a list can store duplicate and ordered elements, a set has distinct characteristics that make it a better choice in certain scenarios.Reasons to use a set instead of a list are:- Ensuring Uniqueness, Faster Membership Testing, Set Operations, Better for Large Data.\n",
        "\n",
        "6. What is a string in Python, and how is it different from a list ?\n",
        "\n",
        "  - A string in python is a sequence of characters enclosed in single (') or double (\") quotes. Strings are used to represent text and are immutable, meaning they cannot be changed after creation. In contrast, a list is a collection of elements which can be of any type enclosed in square brackets ([]) and is mutable, meaning it can be modified after creation.\n",
        "\n",
        "7. How do tuples ensure data integrity in Python ?\n",
        "\n",
        "  - Tuples in Python ensure data integrity by being immutable, meaning their contents cannot be changed after creation. This immutability provides a robust way to maintain consistency and reliability, particularly in situations where data must remain unchanged throughout a program's execution.\n",
        "\n",
        "8. What is a hash table, and how does it relate to dictionaries in Python ?\n",
        "\n",
        "  - A hash table is a data structure that stores key-value pairs and uses a hashing function to map keys to specific locations or indices in an underlying array. This design enables efficient data storage, retrieval, and management, typically providing O(1) average time complexity for operations like lookups, insertions, and deletions.In Python, dictionaries are implemented using hash tables, making them one of the most efficient and versatile data structures for handling key-value pairs.\n",
        "\n",
        "9. Can lists contain different data types in Python ?\n",
        "\n",
        "  - Yes, lists in Python can contain elements of different data types. Python lists are highly versatile and can store any combination of data types, including integers, floats, strings, booleans, other lists, tuples, dictionaries, objects, or even custom data types.\n",
        "\n",
        "10. Explain why strings are immutable in Python ?\n",
        "\n",
        "  - In Python, strings are immutable, which means that once a string is created, its content cannot be changed. This design choice is deliberate and has several important benefits related to performance, safety, and design philosophy. The reasons why strings are immutable because of efficiency in memory management, Hashing, Performance Optimizations etc.\n",
        "\n",
        "11. What advantages do dictionaries offer over lists for certain tasks ?\n",
        "\n",
        "  - Dictionaries offer several advantages over lists for certain tasks, particularly when you need to store and retrieve data based on specific keys rather than relying on the order of elements. Dictionaries are better suited for tasks that involve key-based lookup, associating values with identifiers, or ensuring uniqueness. Lists are more appropriate for ordered collections where the sequence and index of items matter.\n",
        "\n",
        "12. Describe a scenario where using a tuple would be preferable over a list ?\n",
        "\n",
        "  - A tuple would be preferable over a list in scenarios where immutability and data integrity are important, or when you need to group related data together in a fixed and consistent way. Here's a specific scenario where a tuple would be the better choice:- Imagine you are developing an application that stores geographic coordinates latitude and longitude for locations. Since geographic coordinates are meant to be fixed, it is important that they cannot be changed once they are set, to avoid any accidental modification or corruption of the data.\n",
        "\n",
        "13. How do sets handle duplicate values in Python ?\n",
        "\n",
        "  - In Python, sets automatically handle duplicate values by removing them. A set is an unordered collection of unique elements, and it does not allow any duplicate values. When you attempt to add a duplicate element to a set, it will be ignored, and the set will remain unchanged.\n",
        "\n",
        "14. How does the “in” keyword work differently for lists and dictionaries ?\n",
        "\n",
        "  - The in keyword in Python is used to test membership, but its behavior differs between lists and dictionaries because of how these data structures are designed. Use in for lists when you want to check for the presence of a specific element.Use in for dictionaries when you want to check for the presence of a specific key. To check for values, you need to explicitly access .values().\n",
        "\n",
        "15. Can you modify the elements of a tuple ? Explain why or why not\n",
        "\n",
        "  - No, you cannot modify the elements of a tuple in Python. Tuples are immutable, which means that once a tuple is created, its contents elements cannot be changed, added, or removed. This immutability is a fundamental property of tuples in Python.\n",
        "\n",
        "16. What is a nested dictionary, and give an example of its use case ?\n",
        "\n",
        "  - A nested dictionary in Python is a dictionary where a dictionary itself is stored as a value for a key. It allows hierarchical, multi-level data organization, making it useful for representing complex data structures. for example:- Imagine you are creating a system to manage student records. Each student has multiple attributes like name, age, and grades for various subjects. A nested dictionary is an ideal structure to organize this data.\n",
        "\n",
        "17. Describe the time complexity of accessing elements in a dictionary ?\n",
        "\n",
        "  - Accessing elements in a Python dictionary is generally very fast due to its underlying implementation using hash tables. The time complexity of accessing an element depends on the operation and certain factors, such as hash collisions.\n",
        "\n",
        "18. In what situations are lists preferred over dictionaries ?\n",
        "\n",
        "  - Lists and dictionaries are both powerful data structures in Python, but they are suited to different use cases. Lists are preferred over dictionaries in situations where:Sequential  ordered data, Positional access by index, Duplicate values, Simplicity for tasks involving iteration or aggregation without needing key-value relationships.\n",
        "\n",
        "19. Why are dictionaries considered unordered, and how does that affect data retrieval ?\n",
        "\n",
        "  - Dictionaries in Python are considered unordered in terms of how they store and manage their elements internally. This characteristic arises from the use of hash tables for their implementation.This affects data retrieval by requiring keys instead of positional indexes, which provides fast lookups.\n",
        "\n",
        "20. Explain the difference between a list and a dictionary in terms of data retrieval ?\n",
        "\n",
        "  - The primary difference between a list and a dictionary in Python lies in how data is retrieved and accessed,Each structure is suited to specific types of tasks, and their choice depends on whether you need index-based sequential access list or key-based lookups dictionary."
      ],
      "metadata": {
        "id": "ryfjE8R0Qztr"
      }
    },
    {
      "cell_type": "code",
      "source": [
        "# 1. Write a code to create a string with your name and print it.\n",
        "\n",
        "# Create a string with  name\n",
        "name = \"Gaurav Sharma\"\n",
        "\n",
        "# Print the string\n",
        "print(name)"
      ],
      "metadata": {
        "colab": {
          "base_uri": "https://localhost:8080/"
        },
        "id": "kFRMnblCTZ3f",
        "outputId": "44ef8757-bf09-4607-9519-06289d0daaf5"
      },
      "execution_count": 1,
      "outputs": [
        {
          "output_type": "stream",
          "name": "stdout",
          "text": [
            "Gaurav Sharma\n"
          ]
        }
      ]
    },
    {
      "cell_type": "code",
      "source": [
        "\n",
        "# 2. Write a code to find the length of the string \"Hello World\"\n",
        "\n",
        "\n",
        "# Define the string\n",
        "string = \"Hello World\"\n",
        "\n",
        "# Find and print the length of the string\n",
        "length = len(string)\n",
        "print(\"The length of the string is:\", length)\n"
      ],
      "metadata": {
        "colab": {
          "base_uri": "https://localhost:8080/"
        },
        "id": "7ZnhBJA0XWAl",
        "outputId": "8ceb985f-2270-419e-df92-8d0445865af4"
      },
      "execution_count": 2,
      "outputs": [
        {
          "output_type": "stream",
          "name": "stdout",
          "text": [
            "The length of the string is: 11\n"
          ]
        }
      ]
    },
    {
      "cell_type": "code",
      "source": [
        "# 3. Write a code to slice the first 3 characters from the string \"Python Programming\"\n",
        "\n",
        "# Define the string\n",
        "string = \"Python Programming\"\n",
        "\n",
        "# Slice the first 3 characters\n",
        "sliced = string[:3]\n",
        "\n",
        "# Print the sliced string\n",
        "print(\"The first 3 characters are:\", sliced)"
      ],
      "metadata": {
        "colab": {
          "base_uri": "https://localhost:8080/"
        },
        "id": "witht0odXapK",
        "outputId": "506b8eb6-f837-493c-a5c8-5705e20d981b"
      },
      "execution_count": 3,
      "outputs": [
        {
          "output_type": "stream",
          "name": "stdout",
          "text": [
            "The first 3 characters are: Pyt\n"
          ]
        }
      ]
    },
    {
      "cell_type": "code",
      "source": [
        "\n",
        "# 4. Write a code to convert the string \"hello\" to uppercase\n",
        "\n",
        "# Define the string\n",
        "string = \"hello\"\n",
        "\n",
        "# Convert the string to uppercase\n",
        "uppercase_string = string.upper()\n",
        "\n",
        "# Print the uppercase string\n",
        "print(\"The string in uppercase is:\", uppercase_string)"
      ],
      "metadata": {
        "colab": {
          "base_uri": "https://localhost:8080/"
        },
        "id": "KaFAzN6iXhp5",
        "outputId": "ffa31e9c-e6c4-4b3b-d6df-a18baeb58e28"
      },
      "execution_count": 4,
      "outputs": [
        {
          "output_type": "stream",
          "name": "stdout",
          "text": [
            "The string in uppercase is: HELLO\n"
          ]
        }
      ]
    },
    {
      "cell_type": "code",
      "source": [
        "# 5.  Write a code to replace the word \"apple\" with \"orange\" in the string \"I like apple\"\n",
        "\n",
        "# Define the string\n",
        "string = \"I like apple\"\n",
        "\n",
        "# Replace \"apple\" with \"orange\"\n",
        "new_string = string.replace(\"apple\", \"orange\")\n",
        "\n",
        "# Print the updated string\n",
        "print(\"Updated string:\", new_string)"
      ],
      "metadata": {
        "colab": {
          "base_uri": "https://localhost:8080/"
        },
        "id": "jvjBykO8Xo_1",
        "outputId": "8bc64f4d-1dc8-49bf-d31b-779d9f5b6cf5"
      },
      "execution_count": 5,
      "outputs": [
        {
          "output_type": "stream",
          "name": "stdout",
          "text": [
            "Updated string: I like orange\n"
          ]
        }
      ]
    },
    {
      "cell_type": "code",
      "source": [
        "# 6. Write a code to create a list with numbers 1 to 5 and print it\n",
        "\n",
        "# Create a list with numbers 1 to 5\n",
        "numbers = [1, 2, 3, 4, 5]\n",
        "\n",
        "# Print the list\n",
        "print(\"The list is:\", numbers)"
      ],
      "metadata": {
        "colab": {
          "base_uri": "https://localhost:8080/"
        },
        "id": "EzfaV60ZXudE",
        "outputId": "5ed82142-6351-4d01-8c62-6ccd2e69e034"
      },
      "execution_count": 6,
      "outputs": [
        {
          "output_type": "stream",
          "name": "stdout",
          "text": [
            "The list is: [1, 2, 3, 4, 5]\n"
          ]
        }
      ]
    },
    {
      "cell_type": "code",
      "source": [
        "# 7. Write a code to append the number 10 to the list [1, 2, 3, 4]\n",
        "\n",
        "# Define the list\n",
        "numbers = [1, 2, 3, 4]\n",
        "\n",
        "# Append the number 10 to the list\n",
        "numbers.append(10)\n",
        "\n",
        "# Print the updated list\n",
        "print(\"Updated list:\", numbers)\n"
      ],
      "metadata": {
        "colab": {
          "base_uri": "https://localhost:8080/"
        },
        "id": "007lFbTLXzcY",
        "outputId": "e442a9c1-fbdb-4e27-eec3-d103c0427902"
      },
      "execution_count": 7,
      "outputs": [
        {
          "output_type": "stream",
          "name": "stdout",
          "text": [
            "Updated list: [1, 2, 3, 4, 10]\n"
          ]
        }
      ]
    },
    {
      "cell_type": "code",
      "source": [
        "# 8. Write a code to remove the number 3 from the list [1, 2, 3, 4, 5]\n",
        "\n",
        "# Define the list\n",
        "numbers = [1, 2, 3, 4, 5]\n",
        "\n",
        "# Remove the number 3 from the list\n",
        "numbers.remove(3)\n",
        "\n",
        "# Print the updated list\n",
        "print(\"Updated list:\", numbers)"
      ],
      "metadata": {
        "colab": {
          "base_uri": "https://localhost:8080/"
        },
        "id": "1GqFJggWX4k_",
        "outputId": "d1593049-85fa-4060-d835-a4b2afd85440"
      },
      "execution_count": 8,
      "outputs": [
        {
          "output_type": "stream",
          "name": "stdout",
          "text": [
            "Updated list: [1, 2, 4, 5]\n"
          ]
        }
      ]
    },
    {
      "cell_type": "code",
      "source": [
        "\n",
        "# 9. Write a code to access the second element in the list ['a', 'b', 'c', 'd']\n",
        "\n",
        "# Define the list\n",
        "letters = ['a', 'b', 'c', 'd']\n",
        "\n",
        "# Access the second element (index 1)\n",
        "second_element = letters[1]\n",
        "\n",
        "# Print the second element\n",
        "print(\"The second element is:\", second_element)"
      ],
      "metadata": {
        "colab": {
          "base_uri": "https://localhost:8080/"
        },
        "id": "bDjTV7ZxYBJL",
        "outputId": "7588087c-6db5-4087-b3b6-2eeb71f5c8d2"
      },
      "execution_count": 9,
      "outputs": [
        {
          "output_type": "stream",
          "name": "stdout",
          "text": [
            "The second element is: b\n"
          ]
        }
      ]
    },
    {
      "cell_type": "code",
      "source": [
        "# 10. Write a code to reverse the list [10, 20, 30, 40, 50]\n",
        "\n",
        "\n",
        "# Define the list\n",
        "numbers = [10, 20, 30, 40, 50]\n",
        "\n",
        "# Reverse the list\n",
        "reversed_numbers = numbers[::-1]\n",
        "\n",
        "# Print the reversed list\n",
        "print(\"Reversed list:\", reversed_numbers)"
      ],
      "metadata": {
        "colab": {
          "base_uri": "https://localhost:8080/"
        },
        "id": "_AB7Wnl2YG7v",
        "outputId": "a6658871-9952-41b0-a049-3b7e0bd43cda"
      },
      "execution_count": 10,
      "outputs": [
        {
          "output_type": "stream",
          "name": "stdout",
          "text": [
            "Reversed list: [50, 40, 30, 20, 10]\n"
          ]
        }
      ]
    },
    {
      "cell_type": "code",
      "source": [
        "# 11. Write a code to create a tuple with the elements 100, 200, 300 and print it\n",
        "\n",
        "# Create a tuple with elements 10, 20, 30\n",
        "my_tuple = (100, 200, 300)\n",
        "\n",
        "# Print the tuple\n",
        "print(\"The tuple is:\", my_tuple)"
      ],
      "metadata": {
        "colab": {
          "base_uri": "https://localhost:8080/"
        },
        "id": "aqhAcIA6YMcu",
        "outputId": "2c48fc45-e128-4e5e-f6cf-18ab34d2db31"
      },
      "execution_count": 11,
      "outputs": [
        {
          "output_type": "stream",
          "name": "stdout",
          "text": [
            "The tuple is: (100, 200, 300)\n"
          ]
        }
      ]
    },
    {
      "cell_type": "code",
      "source": [
        "#12. Write a code to access the second-to-last element of the tuple ('red', 'green', 'blue', 'yellow').\n",
        "\n",
        "colors = ('red', 'green', 'blue', 'yellow')\n",
        "second_to_last = colors[-2]\n",
        "print(second_to_last)"
      ],
      "metadata": {
        "colab": {
          "base_uri": "https://localhost:8080/"
        },
        "id": "gqx-Bo_CYd9_",
        "outputId": "2d9c6b64-7f01-4cd4-f92d-8716c9eb53e9"
      },
      "execution_count": 12,
      "outputs": [
        {
          "output_type": "stream",
          "name": "stdout",
          "text": [
            "blue\n"
          ]
        }
      ]
    },
    {
      "cell_type": "code",
      "source": [
        "#13. Write a code to find the minimum number in the tuple (10, 20, 5, 15).\n",
        "\n",
        "numbers = (10, 20, 5, 15)\n",
        "min_number = min(numbers)\n",
        "print(\"The Minimum Number is:-\",min_number)"
      ],
      "metadata": {
        "colab": {
          "base_uri": "https://localhost:8080/"
        },
        "id": "ajBhvm3tZDnr",
        "outputId": "df2b1e57-ec43-4ebd-929f-014305399a7f"
      },
      "execution_count": 14,
      "outputs": [
        {
          "output_type": "stream",
          "name": "stdout",
          "text": [
            "The Minimum Number is:- 5\n"
          ]
        }
      ]
    },
    {
      "cell_type": "code",
      "source": [
        "#14. Write a code to find the index of the element \"cat\" in the tuple ('dog', 'cat', 'rabbit').\n",
        "\n",
        "animals = ('dog', 'cat', 'rabbit')\n",
        "index_of_cat = animals.index('cat')\n",
        "print(index_of_cat)"
      ],
      "metadata": {
        "colab": {
          "base_uri": "https://localhost:8080/"
        },
        "id": "3uFFb-GbZX-Z",
        "outputId": "4159fc57-cc32-4add-89a6-ea8733c11382"
      },
      "execution_count": 15,
      "outputs": [
        {
          "output_type": "stream",
          "name": "stdout",
          "text": [
            "1\n"
          ]
        }
      ]
    },
    {
      "cell_type": "code",
      "source": [
        "#15. Write a code to create a tuple containing three different fruits and check if \"kiwi\" is in it.\n",
        "\n",
        "fruits = ('apple', 'banana', 'cherry')\n",
        "if 'kiwi' in fruits:\n",
        "    print(\"Kiwi is in the tuple.\")\n",
        "else:\n",
        "    print(\"Kiwi is not in the tuple.\")\n"
      ],
      "metadata": {
        "colab": {
          "base_uri": "https://localhost:8080/"
        },
        "id": "k9MV80MdrUed",
        "outputId": "f5c25fe0-fbe2-4ee9-bc3c-694b1b10d939"
      },
      "execution_count": 17,
      "outputs": [
        {
          "output_type": "stream",
          "name": "stdout",
          "text": [
            "Kiwi is not in the tuple.\n"
          ]
        }
      ]
    },
    {
      "cell_type": "code",
      "source": [
        "#16. Write a code to create a set with the elements 'a', 'b', 'c' and print it.\n",
        "\n",
        "my_set = {'a', 'b', 'c'} #Sets in Python are unordered, meaning the elements may not appear in the same order as you defined them\n",
        "print(my_set)"
      ],
      "metadata": {
        "colab": {
          "base_uri": "https://localhost:8080/"
        },
        "id": "C7uYJCPbrufi",
        "outputId": "33f51d3c-841d-4c31-a8b7-523efe7078ae"
      },
      "execution_count": 19,
      "outputs": [
        {
          "output_type": "stream",
          "name": "stdout",
          "text": [
            "{'c', 'b', 'a'}\n"
          ]
        }
      ]
    },
    {
      "cell_type": "code",
      "source": [
        "#17. Write a code to clear all elements from the set {1, 2, 3, 4, 5}.\n",
        "\n",
        "my_set = {1, 2, 3, 4, 5}\n",
        "my_set.clear()\n",
        "print(my_set)"
      ],
      "metadata": {
        "colab": {
          "base_uri": "https://localhost:8080/"
        },
        "id": "ECSkwSrksS8l",
        "outputId": "f46cb4db-1d26-4947-c744-691820f1daf0"
      },
      "execution_count": 20,
      "outputs": [
        {
          "output_type": "stream",
          "name": "stdout",
          "text": [
            "set()\n"
          ]
        }
      ]
    },
    {
      "cell_type": "code",
      "source": [
        "#18. Write a code to remove the element 4 from the set {1, 2, 3, 4}.\n",
        "\n",
        "my_set = {1, 2, 3, 4}\n",
        "my_set.remove(4)\n",
        "print(my_set)"
      ],
      "metadata": {
        "colab": {
          "base_uri": "https://localhost:8080/"
        },
        "id": "0vCST__bsg0O",
        "outputId": "482816cd-50ea-41fb-91db-bf62cfc01593"
      },
      "execution_count": 21,
      "outputs": [
        {
          "output_type": "stream",
          "name": "stdout",
          "text": [
            "{1, 2, 3}\n"
          ]
        }
      ]
    },
    {
      "cell_type": "code",
      "source": [
        "#19. Write a code to find the union of two sets {1, 2, 3} and {3, 4, 5}.\n",
        "\n",
        "set1 = {1, 2, 3}\n",
        "set2 = {3, 4, 5}\n",
        "union_set = set1.union(set2)\n",
        "print(union_set)"
      ],
      "metadata": {
        "colab": {
          "base_uri": "https://localhost:8080/"
        },
        "id": "IrRkjjRGspg_",
        "outputId": "1d6adae7-1ed4-4d19-89bb-aa56fa8f93fa"
      },
      "execution_count": 22,
      "outputs": [
        {
          "output_type": "stream",
          "name": "stdout",
          "text": [
            "{1, 2, 3, 4, 5}\n"
          ]
        }
      ]
    },
    {
      "cell_type": "code",
      "source": [
        "#20. Write a code to find the intersection of two sets {1, 2, 3} and {2, 3, 4}.\n",
        "\n",
        "set1 = {1, 2, 3}\n",
        "set2 = {2, 3, 4}\n",
        "\n",
        "intersection_set = set1.intersection(set2)\n",
        "print(intersection_set)"
      ],
      "metadata": {
        "colab": {
          "base_uri": "https://localhost:8080/"
        },
        "id": "Rn2DTcBJsxnZ",
        "outputId": "b01f8f0d-ae2e-4ae2-e764-c79650115ce4"
      },
      "execution_count": 23,
      "outputs": [
        {
          "output_type": "stream",
          "name": "stdout",
          "text": [
            "{2, 3}\n"
          ]
        }
      ]
    },
    {
      "cell_type": "code",
      "source": [
        "#21. Write a code to create a dictionary with the keys \"name\", \"age\", and \"city\", and print it.\n",
        "\n",
        "my_dict = {\n",
        "    \"name\": \"Gaurav\",\n",
        "    \"age\": 31,\n",
        "    \"city\": \"Durg\"\n",
        "}\n",
        "print(my_dict)"
      ],
      "metadata": {
        "colab": {
          "base_uri": "https://localhost:8080/"
        },
        "id": "I5do8w98s9v2",
        "outputId": "4db6c80d-9121-46f8-856e-57cfe1b736fa"
      },
      "execution_count": 24,
      "outputs": [
        {
          "output_type": "stream",
          "name": "stdout",
          "text": [
            "{'name': 'Gaurav', 'age': 31, 'city': 'Durg'}\n"
          ]
        }
      ]
    },
    {
      "cell_type": "code",
      "source": [
        "#22. Write a code to add a new key-value pair \"country\": \"USA\" to the dictionary {'name': 'John', 'age': 25}.\n",
        "\n",
        "my_dict = {'name': 'John', 'age': 25}\n",
        "my_dict['country'] = 'USA'\n",
        "print(my_dict)"
      ],
      "metadata": {
        "colab": {
          "base_uri": "https://localhost:8080/"
        },
        "id": "hQomL9QHtIic",
        "outputId": "dfd3483e-d044-4cda-bc1a-9caed674bd6b"
      },
      "execution_count": 25,
      "outputs": [
        {
          "output_type": "stream",
          "name": "stdout",
          "text": [
            "{'name': 'John', 'age': 25, 'country': 'USA'}\n"
          ]
        }
      ]
    },
    {
      "cell_type": "code",
      "source": [
        "#23. Write a code to access the value associated with the key \"name\" in the dictionary {'name': 'Alice', 'age': 30}.\n",
        "\n",
        "person = {'name': 'Alice', 'age': 30}\n",
        "name_value = person['name']\n",
        "print(name_value)"
      ],
      "metadata": {
        "colab": {
          "base_uri": "https://localhost:8080/"
        },
        "id": "RT3FK2nRtYPz",
        "outputId": "a3901bd3-a755-4d3b-d3ea-5f9fbeb94f5f"
      },
      "execution_count": 28,
      "outputs": [
        {
          "output_type": "stream",
          "name": "stdout",
          "text": [
            "Alice\n"
          ]
        }
      ]
    },
    {
      "cell_type": "code",
      "source": [
        "#24. Write a code to remove the key \"age\" from the dictionary {'name': 'Bob', 'age': 22, 'city': 'New York'}.\n",
        "\n",
        "person = {'name': 'Bob', 'age': 22, 'city': 'New York'}\n",
        "del person['age']\n",
        "print(person)"
      ],
      "metadata": {
        "colab": {
          "base_uri": "https://localhost:8080/"
        },
        "id": "xZ8l4ylztvXk",
        "outputId": "73eb1b93-94ca-4502-a153-f74f1469f1d8"
      },
      "execution_count": 29,
      "outputs": [
        {
          "output_type": "stream",
          "name": "stdout",
          "text": [
            "{'name': 'Bob', 'city': 'New York'}\n"
          ]
        }
      ]
    },
    {
      "cell_type": "code",
      "source": [
        "#25. Write a code to check if the key \"city\" exists in the dictionary {'name': 'Alice', 'city': 'Paris'}.\n",
        "\n",
        "person = {'name': 'Alice', 'city': 'Paris'}\n",
        "if 'city' in person:\n",
        "    print(\"The key 'city' exists in the dictionary.\")\n",
        "else:\n",
        "    print(\"The key 'city' does not exist in the dictionary.\")"
      ],
      "metadata": {
        "colab": {
          "base_uri": "https://localhost:8080/"
        },
        "id": "hBopCHn_t4UQ",
        "outputId": "d7242fc7-2d89-44d6-ede3-17b744347cdf"
      },
      "execution_count": 30,
      "outputs": [
        {
          "output_type": "stream",
          "name": "stdout",
          "text": [
            "The key 'city' exists in the dictionary.\n"
          ]
        }
      ]
    },
    {
      "cell_type": "code",
      "source": [
        "#26. Write a code to create a list, a tuple, and a dictionary, and print them all.\n",
        "\n",
        "# Creating a list\n",
        "my_list = [1, 2, 3, 4]\n",
        "\n",
        "# Creating a tuple\n",
        "my_tuple = (10, 20, 30)\n",
        "\n",
        "# Creating a dictionary\n",
        "my_dict = {'name': 'Alice', 'age': 25}\n",
        "\n",
        "# Printing all\n",
        "print(\"List:\", my_list)\n",
        "print(\"Tuple:\", my_tuple)\n",
        "print(\"Dictionary:\", my_dict)"
      ],
      "metadata": {
        "colab": {
          "base_uri": "https://localhost:8080/"
        },
        "id": "xuVhH2Xet_g4",
        "outputId": "4fd66c69-6ba2-486b-fa13-ed6215db3c66"
      },
      "execution_count": 31,
      "outputs": [
        {
          "output_type": "stream",
          "name": "stdout",
          "text": [
            "List: [1, 2, 3, 4]\n",
            "Tuple: (10, 20, 30)\n",
            "Dictionary: {'name': 'Alice', 'age': 25}\n"
          ]
        }
      ]
    },
    {
      "cell_type": "code",
      "source": [
        "#27. Write a code to create a list of 5 random numbers between 1 and 100, sort it in ascending order, and print the result.(replaced)\n",
        "\n",
        "import random\n",
        "\n",
        "# Generate a list of 5 random numbers between 1 and 100\n",
        "random_numbers = random.sample(range(1, 101), 5)\n",
        "\n",
        "# Sort the list in ascending order\n",
        "random_numbers.sort()\n",
        "\n",
        "# Print the sorted list\n",
        "print(\"Sorted Random Numbers:\", random_numbers)"
      ],
      "metadata": {
        "colab": {
          "base_uri": "https://localhost:8080/"
        },
        "id": "xAI6892auNR3",
        "outputId": "9bff796e-dd80-4deb-d6b4-5234a0bfdad8"
      },
      "execution_count": 32,
      "outputs": [
        {
          "output_type": "stream",
          "name": "stdout",
          "text": [
            "Sorted Random Numbers: [4, 12, 69, 73, 99]\n"
          ]
        }
      ]
    },
    {
      "cell_type": "code",
      "source": [
        "#28. Write a code to create a list with strings and print the element at the third index.\n",
        "\n",
        "# Creating a list with strings\n",
        "my_list = [\"apple\", \"banana\", \"cherry\", \"date\", \"elderberry\"]\n",
        "\n",
        "# Accessing and printing the element at the third index (0-based index)\n",
        "print(my_list[3])"
      ],
      "metadata": {
        "colab": {
          "base_uri": "https://localhost:8080/"
        },
        "id": "xmfL4_UovNc1",
        "outputId": "2fbe74ff-f2f8-4ee0-f801-904ed3d239ce"
      },
      "execution_count": 33,
      "outputs": [
        {
          "output_type": "stream",
          "name": "stdout",
          "text": [
            "date\n"
          ]
        }
      ]
    },
    {
      "cell_type": "code",
      "source": [
        "#29. Write a code to combine two dictionaries into one and print the result.\n",
        "\n",
        "dict1 = {'a': 1, 'b': 2}\n",
        "dict2 = {'c': 3, 'd': 4}\n",
        "\n",
        "# Merging using update()\n",
        "combined_dict = dict1.copy()  # Make a copy to avoid modifying the original\n",
        "combined_dict.update(dict2)\n",
        "\n",
        "print(combined_dict)"
      ],
      "metadata": {
        "colab": {
          "base_uri": "https://localhost:8080/"
        },
        "id": "M-WaW_LAvjhy",
        "outputId": "1130ea70-18e2-41ad-fa2d-9681204cb18c"
      },
      "execution_count": 34,
      "outputs": [
        {
          "output_type": "stream",
          "name": "stdout",
          "text": [
            "{'a': 1, 'b': 2, 'c': 3, 'd': 4}\n"
          ]
        }
      ]
    },
    {
      "cell_type": "code",
      "source": [
        "#30. Write a code to convert a list of strings into a set.\n",
        "\n",
        "# List of strings\n",
        "my_list = [\"apple\", \"banana\", \"cherry\", \"apple\", \"banana\"]\n",
        "\n",
        "# Convert list to set\n",
        "my_set = set(my_list)\n",
        "\n",
        "# Print the set\n",
        "print(my_set)"
      ],
      "metadata": {
        "colab": {
          "base_uri": "https://localhost:8080/"
        },
        "id": "ONxwIjc0v9oy",
        "outputId": "37fa06aa-6a48-444d-f912-e401386d4791"
      },
      "execution_count": 35,
      "outputs": [
        {
          "output_type": "stream",
          "name": "stdout",
          "text": [
            "{'banana', 'apple', 'cherry'}\n"
          ]
        }
      ]
    }
  ]
}